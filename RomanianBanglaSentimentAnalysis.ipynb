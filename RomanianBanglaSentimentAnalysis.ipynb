{
  "nbformat": 4,
  "nbformat_minor": 0,
  "metadata": {
    "colab": {
      "provenance": [],
      "authorship_tag": "ABX9TyPms6OOWeQA7sRR9uzOGfoT",
      "include_colab_link": true
    },
    "kernelspec": {
      "name": "python3",
      "display_name": "Python 3"
    },
    "language_info": {
      "name": "python"
    }
  },
  "cells": [
    {
      "cell_type": "markdown",
      "metadata": {
        "id": "view-in-github",
        "colab_type": "text"
      },
      "source": [
        "<a href=\"https://colab.research.google.com/github/ashibullah/Romanian-Bangla-Sentiment-Analysis-NLP/blob/main/RomanianBanglaSentimentAnalysis.ipynb\" target=\"_parent\"><img src=\"https://colab.research.google.com/assets/colab-badge.svg\" alt=\"Open In Colab\"/></a>"
      ]
    },
    {
      "cell_type": "markdown",
      "source": [
        "# Data collection + libraries"
      ],
      "metadata": {
        "id": "8wLdBfF46Jkj"
      }
    },
    {
      "cell_type": "code",
      "execution_count": null,
      "metadata": {
        "collapsed": true,
        "id": "-h08gX8Df4Cg"
      },
      "outputs": [],
      "source": [
        "!pip install datasets --upgrade"
      ]
    },
    {
      "cell_type": "code",
      "source": [
        "!pip install nltk"
      ],
      "metadata": {
        "id": "tz3SF_EKWkF_"
      },
      "execution_count": null,
      "outputs": []
    },
    {
      "cell_type": "code",
      "source": [
        "import nltk\n",
        "nltk.download('punkt_tab')  # For tokenizer\n",
        "nltk.download('stopwords')  # For tokenizer"
      ],
      "metadata": {
        "id": "KkpH-xM9WnC-"
      },
      "execution_count": null,
      "outputs": []
    },
    {
      "cell_type": "code",
      "source": [
        "nltk.download('punkt_tab')  # For tokenizerfrom datasets import load_dataset\n",
        "from textblob import TextBlob\n",
        "import re\n",
        "from nltk.tokenize import word_tokenize\n",
        "import pandas as pd\n",
        "\n",
        "import json"
      ],
      "metadata": {
        "id": "is9rz2vygTFi"
      },
      "execution_count": 4,
      "outputs": []
    },
    {
      "cell_type": "code",
      "source": [
        "from google.colab import drive\n",
        "drive.mount('/content/drive')"
      ],
      "metadata": {
        "colab": {
          "base_uri": "https://localhost:8080/"
        },
        "id": "fCLyXoH0yxAB",
        "outputId": "dc2591d8-df73-480b-e304-e20e6d4b9cfa"
      },
      "execution_count": 5,
      "outputs": [
        {
          "output_type": "stream",
          "name": "stdout",
          "text": [
            "Mounted at /content/drive\n"
          ]
        }
      ]
    },
    {
      "cell_type": "code",
      "source": [
        "df = load_dataset(\"aplycaebous/BnSentMix\" , split = \"train\")"
      ],
      "metadata": {
        "id": "x1eXqhC1iL0C",
        "collapsed": true
      },
      "execution_count": null,
      "outputs": []
    },
    {
      "cell_type": "markdown",
      "source": [
        "# **Preprocessing**"
      ],
      "metadata": {
        "id": "o5KBdycQ6DxI"
      }
    },
    {
      "cell_type": "code",
      "source": [
        "def clean_text(text):\n",
        "    # Remove URLs\n",
        "    text = re.sub(r'https?://\\S+|www\\.\\S+', '', text)\n",
        "    # Remove punctuation\n",
        "    text = re.sub(r'[^\\w\\s]', '', text)\n",
        "    return text"
      ],
      "metadata": {
        "id": "hILT6_kjsRpI"
      },
      "execution_count": 7,
      "outputs": []
    },
    {
      "cell_type": "code",
      "source": [
        "def correct_text(text):\n",
        "    return str(TextBlob(text).correct())"
      ],
      "metadata": {
        "id": "hi1EvFEZvORq"
      },
      "execution_count": 8,
      "outputs": []
    },
    {
      "cell_type": "code",
      "source": [
        "# Create DataFrame\n",
        "df = pd.DataFrame(df)\n",
        "# Convert 'Sentence' column to lowercase\n",
        "df['Sentence'] = df['Sentence'].str.lower()\n",
        "\n",
        "# remove urls\n",
        "df['Sentence'] = df['Sentence'].apply(clean_text)\n"
      ],
      "metadata": {
        "collapsed": true,
        "id": "aAajerISpyT4"
      },
      "execution_count": 49,
      "outputs": []
    },
    {
      "cell_type": "code",
      "source": [
        "import re\n",
        "\n",
        "def reduce_repeated_letters(word, max_repeats=1):\n",
        "    # This will limit repeated letters to max_repeats (e.g., 'ooooo' -> 'oo')\n",
        "    return re.sub(r'(.)\\1{'+str(max_repeats)+',}', r'\\1' * max_repeats, word)\n"
      ],
      "metadata": {
        "id": "CxWscwVW6ZRy"
      },
      "execution_count": 50,
      "outputs": []
    },
    {
      "cell_type": "code",
      "source": [
        "def reduce_repeats_in_sentence(sentence):\n",
        "    return ' '.join([reduce_repeated_letters(word) for word in sentence.split()])\n",
        "\n",
        "df['Sentence'] = df['Sentence'].apply(reduce_repeats_in_sentence)\n"
      ],
      "metadata": {
        "id": "bbTPPTFG6fwF"
      },
      "execution_count": 51,
      "outputs": []
    },
    {
      "cell_type": "code",
      "source": [
        "# df = df['Sentence'].apply(correct_text)\n",
        "# avoiding this"
      ],
      "metadata": {
        "id": "Kjw1OlD-ua1W"
      },
      "execution_count": null,
      "outputs": []
    },
    {
      "cell_type": "code",
      "source": [
        "dict_path = '/content/drive/MyDrive/Colab Notebooks/RomanianBanglaUtilities/normalization_dict.json'\n",
        "with open(dict_path, 'r', encoding='utf-8') as f:\n",
        "    normalization_dict = json.load(f)\n",
        "\n",
        "print(f\"Loaded normalization dictionary with {len(normalization_dict)} entries\")\n",
        "\n",
        "\n",
        "# Function to normalize text using your dictionary\n",
        "def normalize_text(text, norm_dict):\n",
        "    tokens = text.split()\n",
        "    reverse_map = {}\n",
        "    for std_word, variants in norm_dict.items():\n",
        "        reverse_map[std_word] = std_word\n",
        "        for var in variants:\n",
        "            reverse_map[var] = std_word\n",
        "    normalized_tokens = [reverse_map.get(token.lower(), token.lower()) for token in tokens]\n",
        "    return ' '.join(normalized_tokens)\n",
        "\n"
      ],
      "metadata": {
        "colab": {
          "base_uri": "https://localhost:8080/"
        },
        "id": "9BQYDk80y-vJ",
        "outputId": "a3315921-616d-4e24-e2a6-bd7d7b3f5132"
      },
      "execution_count": 52,
      "outputs": [
        {
          "output_type": "stream",
          "name": "stdout",
          "text": [
            "Loaded normalization dictionary with 59 entries\n"
          ]
        }
      ]
    },
    {
      "cell_type": "code",
      "source": [
        "df['Sentence'] = df['Sentence'].apply(lambda x: normalize_text(x, normalization_dict))"
      ],
      "metadata": {
        "id": "HBFH7rNY0Cay"
      },
      "execution_count": 54,
      "outputs": []
    },
    {
      "cell_type": "markdown",
      "source": [
        "# **Feature Extraction Starts Here**"
      ],
      "metadata": {
        "id": "ulpnU0_b5rrd"
      }
    },
    {
      "cell_type": "code",
      "source": [
        "abbrev_path = '/content/drive/MyDrive/Colab Notebooks/RomanianBanglaUtilities/abbreviation.json'\n",
        "with open(abbrev_path, 'r', encoding='utf-8') as f:\n",
        "    abbreviation_dict = json.load(f)\n",
        "\n",
        "print(f\"Loaded abbreviation dictionary with {len(abbreviation_dict)} entries\")\n",
        "\n",
        "# Function to normalize text using abbreviation dictionary\n",
        "def normalize_abbreviations(text, abbr_dict):\n",
        "    tokens = text.split()\n",
        "    normalized_tokens = [abbr_dict.get(token.lower(), token) for token in tokens]\n",
        "    return ' '.join(normalized_tokens)"
      ],
      "metadata": {
        "colab": {
          "base_uri": "https://localhost:8080/"
        },
        "id": "gOUXNhB__MhD",
        "outputId": "a70b22e7-8459-4ff5-da8a-adf3a34f7800"
      },
      "execution_count": 55,
      "outputs": [
        {
          "output_type": "stream",
          "name": "stdout",
          "text": [
            "Loaded abbreviation dictionary with 72 entries\n"
          ]
        }
      ]
    },
    {
      "cell_type": "code",
      "source": [
        "df['Sentence'] = df['Sentence'].apply(lambda x: normalize_abbreviations(x, abbreviation_dict))"
      ],
      "metadata": {
        "id": "KVAQmcRq_hO3"
      },
      "execution_count": 56,
      "outputs": []
    },
    {
      "cell_type": "code",
      "source": [
        "from sklearn.feature_extraction.text import CountVectorizer\n",
        "import re\n",
        "\n",
        "# Step 1: Vectorize and extract vocabulary\n",
        "vectorizer = CountVectorizer(lowercase=True)\n",
        "vectorizer.fit(df['Sentence'])\n",
        "\n",
        "# Step 2: Get raw vocab\n",
        "raw_vocab = vectorizer.get_feature_names_out()\n",
        "\n",
        "# Step 3: Filter to keep only clean alphabetic words\n",
        "def is_clean_word(word):\n",
        "    return re.fullmatch(r'[a-zA-Z]+', word) is not None\n",
        "\n",
        "clean_vocab = [word for word in raw_vocab if is_clean_word(word)]\n",
        "\n",
        "print(f\"Cleaned vocabulary size: {len(clean_vocab)}\")\n",
        "\n",
        "# Step 4: Save only cleaned vocab to txt file\n",
        "with open(\"clean_vocab.txt\", \"w\", encoding=\"utf-8\") as f:\n",
        "    for word in clean_vocab:\n",
        "        f.write(f\"{word}\\n\")\n",
        "\n",
        "print(\"Cleaned vocabulary exported to clean_vocab.txt\")\n",
        "\n",
        "# Preview first 20 words\n",
        "print(clean_vocab[:20])\n"
      ],
      "metadata": {
        "colab": {
          "base_uri": "https://localhost:8080/"
        },
        "id": "DRjh82Uoq5AT",
        "outputId": "8a50b279-e398-4a30-9b23-3625702714a5"
      },
      "execution_count": 58,
      "outputs": [
        {
          "output_type": "stream",
          "name": "stdout",
          "text": [
            "Cleaned vocabulary size: 25056\n",
            "Cleaned vocabulary exported to clean_vocab.txt\n",
            "['ab', 'aba', 'abal', 'abalbebohar', 'abalchuda', 'abaler', 'abalra', 'abar', 'abaro', 'abas', 'abash', 'abdar', 'abded', 'abdi', 'abdulah', 'abe', 'abedon', 'abeg', 'aben', 'aber']\n"
          ]
        }
      ]
    },
    {
      "cell_type": "code",
      "source": [
        "df['Tokens'] = df['Sentence'].apply(word_tokenize)\n",
        "\n",
        "df"
      ],
      "metadata": {
        "colab": {
          "base_uri": "https://localhost:8080/",
          "height": 423
        },
        "id": "y7yZUKax0VgE",
        "outputId": "b662cc80-401f-41f3-84db-58efa02c8f6c",
        "collapsed": true
      },
      "execution_count": 17,
      "outputs": [
        {
          "output_type": "execute_result",
          "data": {
            "text/plain": [
              "                                                Sentence  Label  \\\n",
              "0      youtube ar volg gula boring hoye jaitase din d...      3   \n",
              "1      your video making camera work is really good i...      3   \n",
              "2      you made me nostalgic college life a ei dokan ...      3   \n",
              "3      workshop ta engaging but resources ta insuffic...      3   \n",
              "4                     win hoy nay but onek bhalo khelecu      3   \n",
              "...                                                  ...    ...   \n",
              "20010  1 march use kortasi pocof5 kono problem nai ga...      0   \n",
              "20011                       1 day beshi stay kora jae na      0   \n",
              "20012           1 boro na 2 boro tushar bhai er mon boro      0   \n",
              "20013              1 boro na 2 boro sam bhai er mon boro      0   \n",
              "20014  058 pcbbd er depression boys mone hoillo minar...      0   \n",
              "\n",
              "                                                  Tokens  \n",
              "0      [youtube, ar, volg, gula, boring, hoye, jaitas...  \n",
              "1      [your, video, making, camera, work, is, really...  \n",
              "2      [you, made, me, nostalgic, college, life, a, e...  \n",
              "3      [workshop, ta, engaging, but, resources, ta, i...  \n",
              "4             [win, hoy, nay, but, onek, bhalo, khelecu]  \n",
              "...                                                  ...  \n",
              "20010  [1, march, use, kortasi, pocof5, kono, problem...  \n",
              "20011               [1, day, beshi, stay, kora, jae, na]  \n",
              "20012  [1, boro, na, 2, boro, tushar, bhai, er, mon, ...  \n",
              "20013   [1, boro, na, 2, boro, sam, bhai, er, mon, boro]  \n",
              "20014  [058, pcbbd, er, depression, boys, mone, hoill...  \n",
              "\n",
              "[20015 rows x 3 columns]"
            ],
            "text/html": [
              "\n",
              "  <div id=\"df-b156e2ea-7e11-4cb3-b350-dd714571c321\" class=\"colab-df-container\">\n",
              "    <div>\n",
              "<style scoped>\n",
              "    .dataframe tbody tr th:only-of-type {\n",
              "        vertical-align: middle;\n",
              "    }\n",
              "\n",
              "    .dataframe tbody tr th {\n",
              "        vertical-align: top;\n",
              "    }\n",
              "\n",
              "    .dataframe thead th {\n",
              "        text-align: right;\n",
              "    }\n",
              "</style>\n",
              "<table border=\"1\" class=\"dataframe\">\n",
              "  <thead>\n",
              "    <tr style=\"text-align: right;\">\n",
              "      <th></th>\n",
              "      <th>Sentence</th>\n",
              "      <th>Label</th>\n",
              "      <th>Tokens</th>\n",
              "    </tr>\n",
              "  </thead>\n",
              "  <tbody>\n",
              "    <tr>\n",
              "      <th>0</th>\n",
              "      <td>youtube ar volg gula boring hoye jaitase din d...</td>\n",
              "      <td>3</td>\n",
              "      <td>[youtube, ar, volg, gula, boring, hoye, jaitas...</td>\n",
              "    </tr>\n",
              "    <tr>\n",
              "      <th>1</th>\n",
              "      <td>your video making camera work is really good i...</td>\n",
              "      <td>3</td>\n",
              "      <td>[your, video, making, camera, work, is, really...</td>\n",
              "    </tr>\n",
              "    <tr>\n",
              "      <th>2</th>\n",
              "      <td>you made me nostalgic college life a ei dokan ...</td>\n",
              "      <td>3</td>\n",
              "      <td>[you, made, me, nostalgic, college, life, a, e...</td>\n",
              "    </tr>\n",
              "    <tr>\n",
              "      <th>3</th>\n",
              "      <td>workshop ta engaging but resources ta insuffic...</td>\n",
              "      <td>3</td>\n",
              "      <td>[workshop, ta, engaging, but, resources, ta, i...</td>\n",
              "    </tr>\n",
              "    <tr>\n",
              "      <th>4</th>\n",
              "      <td>win hoy nay but onek bhalo khelecu</td>\n",
              "      <td>3</td>\n",
              "      <td>[win, hoy, nay, but, onek, bhalo, khelecu]</td>\n",
              "    </tr>\n",
              "    <tr>\n",
              "      <th>...</th>\n",
              "      <td>...</td>\n",
              "      <td>...</td>\n",
              "      <td>...</td>\n",
              "    </tr>\n",
              "    <tr>\n",
              "      <th>20010</th>\n",
              "      <td>1 march use kortasi pocof5 kono problem nai ga...</td>\n",
              "      <td>0</td>\n",
              "      <td>[1, march, use, kortasi, pocof5, kono, problem...</td>\n",
              "    </tr>\n",
              "    <tr>\n",
              "      <th>20011</th>\n",
              "      <td>1 day beshi stay kora jae na</td>\n",
              "      <td>0</td>\n",
              "      <td>[1, day, beshi, stay, kora, jae, na]</td>\n",
              "    </tr>\n",
              "    <tr>\n",
              "      <th>20012</th>\n",
              "      <td>1 boro na 2 boro tushar bhai er mon boro</td>\n",
              "      <td>0</td>\n",
              "      <td>[1, boro, na, 2, boro, tushar, bhai, er, mon, ...</td>\n",
              "    </tr>\n",
              "    <tr>\n",
              "      <th>20013</th>\n",
              "      <td>1 boro na 2 boro sam bhai er mon boro</td>\n",
              "      <td>0</td>\n",
              "      <td>[1, boro, na, 2, boro, sam, bhai, er, mon, boro]</td>\n",
              "    </tr>\n",
              "    <tr>\n",
              "      <th>20014</th>\n",
              "      <td>058 pcbbd er depression boys mone hoillo minar...</td>\n",
              "      <td>0</td>\n",
              "      <td>[058, pcbbd, er, depression, boys, mone, hoill...</td>\n",
              "    </tr>\n",
              "  </tbody>\n",
              "</table>\n",
              "<p>20015 rows × 3 columns</p>\n",
              "</div>\n",
              "    <div class=\"colab-df-buttons\">\n",
              "\n",
              "  <div class=\"colab-df-container\">\n",
              "    <button class=\"colab-df-convert\" onclick=\"convertToInteractive('df-b156e2ea-7e11-4cb3-b350-dd714571c321')\"\n",
              "            title=\"Convert this dataframe to an interactive table.\"\n",
              "            style=\"display:none;\">\n",
              "\n",
              "  <svg xmlns=\"http://www.w3.org/2000/svg\" height=\"24px\" viewBox=\"0 -960 960 960\">\n",
              "    <path d=\"M120-120v-720h720v720H120Zm60-500h600v-160H180v160Zm220 220h160v-160H400v160Zm0 220h160v-160H400v160ZM180-400h160v-160H180v160Zm440 0h160v-160H620v160ZM180-180h160v-160H180v160Zm440 0h160v-160H620v160Z\"/>\n",
              "  </svg>\n",
              "    </button>\n",
              "\n",
              "  <style>\n",
              "    .colab-df-container {\n",
              "      display:flex;\n",
              "      gap: 12px;\n",
              "    }\n",
              "\n",
              "    .colab-df-convert {\n",
              "      background-color: #E8F0FE;\n",
              "      border: none;\n",
              "      border-radius: 50%;\n",
              "      cursor: pointer;\n",
              "      display: none;\n",
              "      fill: #1967D2;\n",
              "      height: 32px;\n",
              "      padding: 0 0 0 0;\n",
              "      width: 32px;\n",
              "    }\n",
              "\n",
              "    .colab-df-convert:hover {\n",
              "      background-color: #E2EBFA;\n",
              "      box-shadow: 0px 1px 2px rgba(60, 64, 67, 0.3), 0px 1px 3px 1px rgba(60, 64, 67, 0.15);\n",
              "      fill: #174EA6;\n",
              "    }\n",
              "\n",
              "    .colab-df-buttons div {\n",
              "      margin-bottom: 4px;\n",
              "    }\n",
              "\n",
              "    [theme=dark] .colab-df-convert {\n",
              "      background-color: #3B4455;\n",
              "      fill: #D2E3FC;\n",
              "    }\n",
              "\n",
              "    [theme=dark] .colab-df-convert:hover {\n",
              "      background-color: #434B5C;\n",
              "      box-shadow: 0px 1px 3px 1px rgba(0, 0, 0, 0.15);\n",
              "      filter: drop-shadow(0px 1px 2px rgba(0, 0, 0, 0.3));\n",
              "      fill: #FFFFFF;\n",
              "    }\n",
              "  </style>\n",
              "\n",
              "    <script>\n",
              "      const buttonEl =\n",
              "        document.querySelector('#df-b156e2ea-7e11-4cb3-b350-dd714571c321 button.colab-df-convert');\n",
              "      buttonEl.style.display =\n",
              "        google.colab.kernel.accessAllowed ? 'block' : 'none';\n",
              "\n",
              "      async function convertToInteractive(key) {\n",
              "        const element = document.querySelector('#df-b156e2ea-7e11-4cb3-b350-dd714571c321');\n",
              "        const dataTable =\n",
              "          await google.colab.kernel.invokeFunction('convertToInteractive',\n",
              "                                                    [key], {});\n",
              "        if (!dataTable) return;\n",
              "\n",
              "        const docLinkHtml = 'Like what you see? Visit the ' +\n",
              "          '<a target=\"_blank\" href=https://colab.research.google.com/notebooks/data_table.ipynb>data table notebook</a>'\n",
              "          + ' to learn more about interactive tables.';\n",
              "        element.innerHTML = '';\n",
              "        dataTable['output_type'] = 'display_data';\n",
              "        await google.colab.output.renderOutput(dataTable, element);\n",
              "        const docLink = document.createElement('div');\n",
              "        docLink.innerHTML = docLinkHtml;\n",
              "        element.appendChild(docLink);\n",
              "      }\n",
              "    </script>\n",
              "  </div>\n",
              "\n",
              "\n",
              "    <div id=\"df-6a8f3d5c-6882-4dda-bd2c-b567bf70d42b\">\n",
              "      <button class=\"colab-df-quickchart\" onclick=\"quickchart('df-6a8f3d5c-6882-4dda-bd2c-b567bf70d42b')\"\n",
              "                title=\"Suggest charts\"\n",
              "                style=\"display:none;\">\n",
              "\n",
              "<svg xmlns=\"http://www.w3.org/2000/svg\" height=\"24px\"viewBox=\"0 0 24 24\"\n",
              "     width=\"24px\">\n",
              "    <g>\n",
              "        <path d=\"M19 3H5c-1.1 0-2 .9-2 2v14c0 1.1.9 2 2 2h14c1.1 0 2-.9 2-2V5c0-1.1-.9-2-2-2zM9 17H7v-7h2v7zm4 0h-2V7h2v10zm4 0h-2v-4h2v4z\"/>\n",
              "    </g>\n",
              "</svg>\n",
              "      </button>\n",
              "\n",
              "<style>\n",
              "  .colab-df-quickchart {\n",
              "      --bg-color: #E8F0FE;\n",
              "      --fill-color: #1967D2;\n",
              "      --hover-bg-color: #E2EBFA;\n",
              "      --hover-fill-color: #174EA6;\n",
              "      --disabled-fill-color: #AAA;\n",
              "      --disabled-bg-color: #DDD;\n",
              "  }\n",
              "\n",
              "  [theme=dark] .colab-df-quickchart {\n",
              "      --bg-color: #3B4455;\n",
              "      --fill-color: #D2E3FC;\n",
              "      --hover-bg-color: #434B5C;\n",
              "      --hover-fill-color: #FFFFFF;\n",
              "      --disabled-bg-color: #3B4455;\n",
              "      --disabled-fill-color: #666;\n",
              "  }\n",
              "\n",
              "  .colab-df-quickchart {\n",
              "    background-color: var(--bg-color);\n",
              "    border: none;\n",
              "    border-radius: 50%;\n",
              "    cursor: pointer;\n",
              "    display: none;\n",
              "    fill: var(--fill-color);\n",
              "    height: 32px;\n",
              "    padding: 0;\n",
              "    width: 32px;\n",
              "  }\n",
              "\n",
              "  .colab-df-quickchart:hover {\n",
              "    background-color: var(--hover-bg-color);\n",
              "    box-shadow: 0 1px 2px rgba(60, 64, 67, 0.3), 0 1px 3px 1px rgba(60, 64, 67, 0.15);\n",
              "    fill: var(--button-hover-fill-color);\n",
              "  }\n",
              "\n",
              "  .colab-df-quickchart-complete:disabled,\n",
              "  .colab-df-quickchart-complete:disabled:hover {\n",
              "    background-color: var(--disabled-bg-color);\n",
              "    fill: var(--disabled-fill-color);\n",
              "    box-shadow: none;\n",
              "  }\n",
              "\n",
              "  .colab-df-spinner {\n",
              "    border: 2px solid var(--fill-color);\n",
              "    border-color: transparent;\n",
              "    border-bottom-color: var(--fill-color);\n",
              "    animation:\n",
              "      spin 1s steps(1) infinite;\n",
              "  }\n",
              "\n",
              "  @keyframes spin {\n",
              "    0% {\n",
              "      border-color: transparent;\n",
              "      border-bottom-color: var(--fill-color);\n",
              "      border-left-color: var(--fill-color);\n",
              "    }\n",
              "    20% {\n",
              "      border-color: transparent;\n",
              "      border-left-color: var(--fill-color);\n",
              "      border-top-color: var(--fill-color);\n",
              "    }\n",
              "    30% {\n",
              "      border-color: transparent;\n",
              "      border-left-color: var(--fill-color);\n",
              "      border-top-color: var(--fill-color);\n",
              "      border-right-color: var(--fill-color);\n",
              "    }\n",
              "    40% {\n",
              "      border-color: transparent;\n",
              "      border-right-color: var(--fill-color);\n",
              "      border-top-color: var(--fill-color);\n",
              "    }\n",
              "    60% {\n",
              "      border-color: transparent;\n",
              "      border-right-color: var(--fill-color);\n",
              "    }\n",
              "    80% {\n",
              "      border-color: transparent;\n",
              "      border-right-color: var(--fill-color);\n",
              "      border-bottom-color: var(--fill-color);\n",
              "    }\n",
              "    90% {\n",
              "      border-color: transparent;\n",
              "      border-bottom-color: var(--fill-color);\n",
              "    }\n",
              "  }\n",
              "</style>\n",
              "\n",
              "      <script>\n",
              "        async function quickchart(key) {\n",
              "          const quickchartButtonEl =\n",
              "            document.querySelector('#' + key + ' button');\n",
              "          quickchartButtonEl.disabled = true;  // To prevent multiple clicks.\n",
              "          quickchartButtonEl.classList.add('colab-df-spinner');\n",
              "          try {\n",
              "            const charts = await google.colab.kernel.invokeFunction(\n",
              "                'suggestCharts', [key], {});\n",
              "          } catch (error) {\n",
              "            console.error('Error during call to suggestCharts:', error);\n",
              "          }\n",
              "          quickchartButtonEl.classList.remove('colab-df-spinner');\n",
              "          quickchartButtonEl.classList.add('colab-df-quickchart-complete');\n",
              "        }\n",
              "        (() => {\n",
              "          let quickchartButtonEl =\n",
              "            document.querySelector('#df-6a8f3d5c-6882-4dda-bd2c-b567bf70d42b button');\n",
              "          quickchartButtonEl.style.display =\n",
              "            google.colab.kernel.accessAllowed ? 'block' : 'none';\n",
              "        })();\n",
              "      </script>\n",
              "    </div>\n",
              "\n",
              "  <div id=\"id_6000da36-2ff3-4ba1-b4e7-ae250ea7a2d0\">\n",
              "    <style>\n",
              "      .colab-df-generate {\n",
              "        background-color: #E8F0FE;\n",
              "        border: none;\n",
              "        border-radius: 50%;\n",
              "        cursor: pointer;\n",
              "        display: none;\n",
              "        fill: #1967D2;\n",
              "        height: 32px;\n",
              "        padding: 0 0 0 0;\n",
              "        width: 32px;\n",
              "      }\n",
              "\n",
              "      .colab-df-generate:hover {\n",
              "        background-color: #E2EBFA;\n",
              "        box-shadow: 0px 1px 2px rgba(60, 64, 67, 0.3), 0px 1px 3px 1px rgba(60, 64, 67, 0.15);\n",
              "        fill: #174EA6;\n",
              "      }\n",
              "\n",
              "      [theme=dark] .colab-df-generate {\n",
              "        background-color: #3B4455;\n",
              "        fill: #D2E3FC;\n",
              "      }\n",
              "\n",
              "      [theme=dark] .colab-df-generate:hover {\n",
              "        background-color: #434B5C;\n",
              "        box-shadow: 0px 1px 3px 1px rgba(0, 0, 0, 0.15);\n",
              "        filter: drop-shadow(0px 1px 2px rgba(0, 0, 0, 0.3));\n",
              "        fill: #FFFFFF;\n",
              "      }\n",
              "    </style>\n",
              "    <button class=\"colab-df-generate\" onclick=\"generateWithVariable('df')\"\n",
              "            title=\"Generate code using this dataframe.\"\n",
              "            style=\"display:none;\">\n",
              "\n",
              "  <svg xmlns=\"http://www.w3.org/2000/svg\" height=\"24px\"viewBox=\"0 0 24 24\"\n",
              "       width=\"24px\">\n",
              "    <path d=\"M7,19H8.4L18.45,9,17,7.55,7,17.6ZM5,21V16.75L18.45,3.32a2,2,0,0,1,2.83,0l1.4,1.43a1.91,1.91,0,0,1,.58,1.4,1.91,1.91,0,0,1-.58,1.4L9.25,21ZM18.45,9,17,7.55Zm-12,3A5.31,5.31,0,0,0,4.9,8.1,5.31,5.31,0,0,0,1,6.5,5.31,5.31,0,0,0,4.9,4.9,5.31,5.31,0,0,0,6.5,1,5.31,5.31,0,0,0,8.1,4.9,5.31,5.31,0,0,0,12,6.5,5.46,5.46,0,0,0,6.5,12Z\"/>\n",
              "  </svg>\n",
              "    </button>\n",
              "    <script>\n",
              "      (() => {\n",
              "      const buttonEl =\n",
              "        document.querySelector('#id_6000da36-2ff3-4ba1-b4e7-ae250ea7a2d0 button.colab-df-generate');\n",
              "      buttonEl.style.display =\n",
              "        google.colab.kernel.accessAllowed ? 'block' : 'none';\n",
              "\n",
              "      buttonEl.onclick = () => {\n",
              "        google.colab.notebook.generateWithVariable('df');\n",
              "      }\n",
              "      })();\n",
              "    </script>\n",
              "  </div>\n",
              "\n",
              "    </div>\n",
              "  </div>\n"
            ],
            "application/vnd.google.colaboratory.intrinsic+json": {
              "type": "dataframe",
              "variable_name": "df",
              "summary": "{\n  \"name\": \"df\",\n  \"rows\": 20015,\n  \"fields\": [\n    {\n      \"column\": \"Sentence\",\n      \"properties\": {\n        \"dtype\": \"string\",\n        \"num_unique_values\": 19733,\n        \"samples\": [\n          \"vaccine dinnur 2 koti vaccine ditay chaisay seta to nibay nanatok\",\n          \"bhai peladn er card dekhteci background e ei card er ekta review dile sobar jonno bhalo hoto jader budget kom ba emne monitor on rakhar jonno dorkar tader kaj e dito\",\n          \"tora hindu ra age thik kor todet ma koyta\"\n        ],\n        \"semantic_type\": \"\",\n        \"description\": \"\"\n      }\n    },\n    {\n      \"column\": \"Label\",\n      \"properties\": {\n        \"dtype\": \"number\",\n        \"std\": 0,\n        \"min\": 0,\n        \"max\": 3,\n        \"num_unique_values\": 4,\n        \"samples\": [\n          2,\n          0,\n          3\n        ],\n        \"semantic_type\": \"\",\n        \"description\": \"\"\n      }\n    },\n    {\n      \"column\": \"Tokens\",\n      \"properties\": {\n        \"dtype\": \"object\",\n        \"semantic_type\": \"\",\n        \"description\": \"\"\n      }\n    }\n  ]\n}"
            }
          },
          "metadata": {},
          "execution_count": 17
        }
      ]
    }
  ]
}